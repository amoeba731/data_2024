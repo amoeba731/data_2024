{
 "cells": [
  {
   "cell_type": "markdown",
<<<<<<< HEAD
   "metadata": {
    "id": "9TxHBxSmB96X"
   },
   "source": [
    "# Markdown Basics in Jupyter Notebooks\n",
=======
   "metadata": {},
   "source": [
    "# Markdown in Jupyter Notebooks\n",
>>>>>>> 1907a8522d3c6fcaa549ff9abe1d4a75afea92e2
    "\n",
    "**Objective:** By the end of this exercise, you should be able to use Markdown to create organized, styled content in Jupyter Notebooks.\n",
    "\n",
    "[documentation](https://www.markdownguide.org/cheat-sheet/)\n",
    "\n",
<<<<<<< HEAD
    "[more documentation](https://www.markdownguide.org/extended-syntax/)\n",
    "\n",
    "**Instructions**\n",
    "\n",
    "1. Use Markdown headings to structure content.\n",
    "Create cells with the following:\n",
    "  - A title using **Heading 1**\n",
    "  - A section heading with **Heading 2**\n",
    "  - A subsection with **Heading 3**"
=======
    "[more documentation](https://www.markdownguide.org/extended-syntax/)"
>>>>>>> 1907a8522d3c6fcaa549ff9abe1d4a75afea92e2
   ]
  },
  {
   "cell_type": "markdown",
<<<<<<< HEAD
=======
   "metadata": {},
   "source": [
    "**Instructions**\n",
    "\n",
    "1. Use Markdown headings to structure content.\n",
    "Create cells with the following:\n",
    "  - A title using **Heading 1**\n",
    "  - A section heading with **Heading 2**\n",
    "  - A subsection with **Heading 3**\n",
    "  - A subsection with **Heading 4**\n",
    "  - A subsection with **Heading 5**\n",
    "  - A subsection with **Heading 6**"
   ]
  },
  {
   "cell_type": "markdown",
>>>>>>> 1907a8522d3c6fcaa549ff9abe1d4a75afea92e2
   "metadata": {
    "id": "6SPk_f2fHR14"
   },
   "source": [
<<<<<<< HEAD
    "# This is our test\n",
    "## Heading 2\n",
    "### Heading 3\n"
=======
    "--- \n",
    "\n",
    "Your mark down here \n",
    "\n",
    "---"
>>>>>>> 1907a8522d3c6fcaa549ff9abe1d4a75afea92e2
   ]
  },
  {
   "cell_type": "markdown",
   "metadata": {
    "id": "t_HeS5bpB8u7"
   },
   "source": [
    "2. Practice bold and italic text:\n",
    "  - Add a cell with the following text: “This is bold text, and this is italic text.”\n",
    "  - Create a blockquote with the text: “This is a blockquote example.”"
   ]
  },
  {
   "cell_type": "markdown",
   "metadata": {
    "id": "jy1cptsFHSuX"
   },
   "source": [
<<<<<<< HEAD
    "**This is bold text,** and *this is italic text*"
   ]
  },
  {
   "cell_type": "markdown",
   "metadata": {},
   "source": [
    ">This is a blockquote example"
=======
    "--- \n",
    "\n",
    "Your mark down here \n",
    "\n",
    "---"
>>>>>>> 1907a8522d3c6fcaa549ff9abe1d4a75afea92e2
   ]
  },
  {
   "cell_type": "markdown",
   "metadata": {
    "id": "6AB2ox0gHF34"
   },
   "source": [
    "3. Create an ordered list (numbers) and an unordered list (bullets):\n",
    "\n",
    "- **Ordered List:**\n",
    "  1. First item\n",
    "  2. Second item\n",
    "  3. Third item\n",
    "\n",
    "- **Unordered List:**\n",
    "  - First item\n",
    "  - Second item\n",
    "  - Third item"
   ]
  },
  {
   "cell_type": "markdown",
   "metadata": {
    "id": "JyYvQ5lSHTmX"
   },
   "source": [
<<<<<<< HEAD
    "1. First item\n",
    "2. Second item\n",
    "3. Third item\n",
    "\n",
    "- First item\n",
    "- Second item\n",
    "- Third item\n"
=======
    "--- \n",
    "\n",
    "Your mark down here \n",
    "\n",
    "---"
>>>>>>> 1907a8522d3c6fcaa549ff9abe1d4a75afea92e2
   ]
  },
  {
   "cell_type": "markdown",
   "metadata": {
    "id": "dNllU7rkHF70"
   },
   "source": [
    "4. Create an inline code example with backticks, like this:\n",
    "\n",
    "`print(\"Hello, world!\")`\n",
    "\n",
    "Then, create a multi-line code block:\n",
    "\n",
    "```python\n",
    "def greet(name):\n",
    "    return f\"Hello, {name}!\"\n",
    "greet(\"World\")\n",
    "```"
   ]
  },
  {
   "cell_type": "markdown",
   "metadata": {
    "id": "Q7OiCgERHF_c"
   },
   "source": [
<<<<<<< HEAD
    "`print(\"Hello, world!\")`\n",
    "\n",
    "```\n",
    "\n",
    "  def greet(name):\n",
    "      return f\"Hello, {name}!\"\n",
    "  greet(\"World\")\n",
    "\n",
    "```\n"
=======
    "--- \n",
    "\n",
    "Your mark down here \n",
    "\n",
    "---"
>>>>>>> 1907a8522d3c6fcaa549ff9abe1d4a75afea92e2
   ]
  },
  {
   "cell_type": "markdown",
   "metadata": {
    "id": "cXKz2W9YHGCn"
   },
   "source": [
    "5. Hyperlinks\n",
    "\n",
    "  Add a link to a website:\n",
    "  [Google](https://www.google.com)\n",
    "\n",
    "  Images\n",
    "\n",
    "  Upload an image (or use an online URL) and add it to the notebook:\n",
    "\n",
    "  <h3>Python Logo</h3>\n",
    "  <img src=\"https://cdn.iconscout.com/icon/free/png-512/free-python-logo-icon-download-in-svg-png-gif-file-formats--programming-language-logos-icons-1720083.png?f=webp&w=256\" alt=\"python logo\" width=\"80\"/>"
   ]
  },
  {
<<<<<<< HEAD
   "attachments": {
    "One More Chapter.jpg": {
     "image/jpeg": "/9j/4AAQSkZJRgABAQEAYABgAAD/4QAiRXhpZgAATU0AKgAAAAgAAQESAAMAAAABAAEAAAAAAAD/4gHYSUNDX1BST0ZJTEUAAQEAAAHIbGNtcwIQAABtbnRyUkdCIFhZWiAH4gADABQACQAOAB1hY3NwTVNGVAAAAABzYXdzY3RybAAAAAAAAAAAAAAAAAAA9tYAAQAAAADTLWhhbmSdkQA9QICwPUB0LIGepSKOAAAAAAAAAAAAAAAAAAAAAAAAAAAAAAAAAAAAAAAAAAlkZXNjAAAA8AAAAF9jcHJ0AAABDAAAAAx3dHB0AAABGAAAABRyWFlaAAABLAAAABRnWFlaAAABQAAAABRiWFlaAAABVAAAABRyVFJDAAABaAAAAGBnVFJDAAABaAAAAGBiVFJDAAABaAAAAGBkZXNjAAAAAAAAAAV1UkdCAAAAAAAAAAAAAAAAdGV4dAAAAABDQzAAWFlaIAAAAAAAAPNUAAEAAAABFslYWVogAAAAAAAAb6AAADjyAAADj1hZWiAAAAAAAABilgAAt4kAABjaWFlaIAAAAAAAACSgAAAPhQAAtsRjdXJ2AAAAAAAAACoAAAB8APgBnAJ1A4MEyQZOCBIKGAxiDvQRzxT2GGocLiBDJKwpai5+M+s5sz/WRldNNlR2XBdkHWyGdVZ+jYgskjacq6eMstu+mcrH12Xkd/H5////2wBDAAIBAQIBAQICAgICAgICAwUDAwMDAwYEBAMFBwYHBwcGBwcICQsJCAgKCAcHCg0KCgsMDAwMBwkODw0MDgsMDAz/2wBDAQICAgMDAwYDAwYMCAcIDAwMDAwMDAwMDAwMDAwMDAwMDAwMDAwMDAwMDAwMDAwMDAwMDAwMDAwMDAwMDAwMDAz/wAARCACWAJYDASIAAhEBAxEB/8QAHwAAAQUBAQEBAQEAAAAAAAAAAAECAwQFBgcICQoL/8QAtRAAAgEDAwIEAwUFBAQAAAF9AQIDAAQRBRIhMUEGE1FhByJxFDKBkaEII0KxwRVS0fAkM2JyggkKFhcYGRolJicoKSo0NTY3ODk6Q0RFRkdISUpTVFVWV1hZWmNkZWZnaGlqc3R1dnd4eXqDhIWGh4iJipKTlJWWl5iZmqKjpKWmp6ipqrKztLW2t7i5usLDxMXGx8jJytLT1NXW19jZ2uHi4+Tl5ufo6erx8vP09fb3+Pn6/8QAHwEAAwEBAQEBAQEBAQAAAAAAAAECAwQFBgcICQoL/8QAtREAAgECBAQDBAcFBAQAAQJ3AAECAxEEBSExBhJBUQdhcRMiMoEIFEKRobHBCSMzUvAVYnLRChYkNOEl8RcYGRomJygpKjU2Nzg5OkNERUZHSElKU1RVVldYWVpjZGVmZ2hpanN0dXZ3eHl6goOEhYaHiImKkpOUlZaXmJmaoqOkpaanqKmqsrO0tba3uLm6wsPExcbHyMnK0tPU1dbX2Nna4uPk5ebn6Onq8vP09fb3+Pn6/9oADAMBAAIRAxEAPwD9bKKKK9Q/QAooooAKKKKACiivP/i18VtU0jxHa+EvCNvp954uv7X7dNcX6PJp/h6yLNGt3cpGyPKZJEkSG3V42naGb95GkMkizKUYxc5uyW7BJt2R38jCG2lmchIYFLySMdqRqOSWPQAeprM8KeN9E8eiU6DrWj66Lc7ZTp17Fd+UfRvLY46Hr6V87fEL9laz8W+OdF1PxLqXir4hXTY+0yeII7DUtJsfLkDebDp0kH2e2mcPsD2yRnZEWcyuoEvrOu/Dfw/4wtLez1Pw7oOqW9uAlvBd6fDPHCOgCKykL+GK8SvxBh4W5E5J9drfL/hj0IZfNq8nY9Eb5TzRXzr8OfjJp994JuPFnwt8VL488M6LN9n1bQkvJL1JSsccjrYTTEy29wIZInihZzayKyIFh837Snv3h7xDY+LvD+n6tpd3DqGl6taxXtldRE+XcwSoHjkXODtZWUjPY16+HxEa0W43TWjTVmn5r+vzOOrSlTdpFyiiitjMKKKKACiiigAooooAKKKKACiiigAooooAdFGZpVRfvMQo/Gvm/wCHvxZ0Lwr8OfFHxY8WaxZ6HpPinXLy+a+vJAkD2KTfZNM2k/MgFlBCxTp5ktxIR8xavpbSjt1S2J6CVD+or8z0TUvFv/BLT4LLcxT3Vxo1xHp91GqF3intZ5oTuA6g2kN1FsIJdriNQC7JXHj8P7elClJ2jKcU35NSf6ffY7svinV/rS7Wp9ifDL9ozwJ8bLhrPw34j0/VLpoDP9keOS3nmhGA0iRTKjSRjcAXQMo3Lk/MM9jqWuW3huxk1C8uoLK1tcSSTzOEjj5AGSeOWIA9SQOSa/M6fxdN4L/s/wAT2F1FHf6Pdwahpdx5oCy3O4LFGrZ+YT7zAVBzIk7JyHwfpD/gpJ8SNH1j4ZaHBp99b31ja+OY/D+v7Jtw09ZLG9eOOdQfk824jtIssOVnaI/LK6nxcdwyqWLpUacnyzvq9WrWv2Wt1bbXQ+pxuB+r1o0uZPmtrtu7a+R6n8A5vg34L8K23w/+HmpeCY9P2SLHpFhqcVxNdfu/3hYM7STsI1wxYswVApwEAHa/swsdK0nxp4dBZofCvi++trcnPEV5Hb6ukY/2YxqflKBwqxKo4FfnHrdrqmpzaXZ6IzjxDdarZDSccst2lxHJGwHcqU3Bf4ioXqwB/Qr9jCaPxH4A8UeLYWLWvjjxfqmo2hLF91patHpNq+4/eEltpkMgOTkSg9692llLwlaVT2jkpLW+/NdWbfmub7meXxBgo4VxpRd9ntbe/wDkj16iiiuk+cCiiigAooooAKKKKACiiigAooooAKKKxfiJ48sfhj4Mvtd1FLqW1sfLUxW0YkmnkklSKKNASBueSRFG5lUFssygEgA3IwzONm7d2x1r5bj+Cfjb4AeK/F2i6Z4CT4qfCvxprVzrkNjbX1jDfaHLcym4uIHhvZYYZYVmbdF5bkqoQERtGXl9S8WfG7wb4i0u+0TxVpmo2djOpgvI9V03zrRpQBIIcxl1nYABj5XmIhXZIySYSsb4o/tAfC2wtftvirxdNoFvfRafMt61lqOmXNyLa5N1H+92LmFmI+VQNyySDcwcBUlSrw9nK0lL9NU0007r1/BnRRlWpTbgulrW6f8ADo4D4W/s1fBfwn8aV1Sb4YyeF/HmnldSiTxC73kwWWTyvtNtJ9puLRnLtsZoJDKhkCuE8xQ3G/Bj9mDWvhz4H+IUHxQHhvxVoHjGztYprPS9RnuLnW7572Z4ZVLQw/Z5Zbi4UxGN2IlkjIdDEGPdfFb9qn4V/tCeGLv+xdQ1DXdU8KxSa1pNzo9/ErJcwBZ4v3ccpm2tJDFnfCQAOwzXlH7Nt34Ht/iFDDqF/wCLviBf+ERpF1pVrbajbRQmdYIWgQwXcsBmuIEtrRt9uF2vJPGUUPKJuJ4CtzSi6z5Xy35m5SSi01aTfu6vS/lvY7oYmcKTjyb76aP9eivb8jQP7AHiG5FxpvgvSNa8HX2pH7Bc+K/E19pF7JoVixIuY9Pg06Qjz2X5FEsYVVLbZYWO+vtHwH4I0v4ZeBdF8NaHbfY9F8O2EGmafAXLmG3hjWONSx5YhVGWPJOSeTXzf4h+NWjReBtY8H6rN8StFvNY1eTVrnV9Dk0zQ9aiL3oulhL2pWNSI0S2kdj5ksSNvYsxavQNQ/bW0bU/EPh7R9D0ma81zxNdSxQw312ltY24jCFwby2F1C8x8xdtvCZJMCRnEaRu49Kckoavu9eyW930t92vdnDUjXqNOaf3f15Hs1FeZfCb4yeIPih8VNasY9GsU8L6Kk1ncX0TSs0epRyRL9mSRtqz8NcB9kaiJoU+ZxKlentGyfeVl5xyKzTTSkuphJNOzG0UUUCCiiigAooooAKKKKACiinQRiWdFZtiswBb+6PWgDzv4w/tI+HPhR8L/iB4hXUdN1G5+HduG1OxScF7S4kiR7aKcL80Yl8yLDY+6zEZKkDyrwl8frj4kfCG4s/E3if4d6uJ/hvJrN/Y2t4U8RQ6qkbXDl4IiEgjhiMRym2aOcAjZhTXzt8ZItP/AGvPGeleIrG8HhiP4jTHwL8VfBpuo/7WsZrYW7vJayyoIpmTybNDvVSgiLbPlu40ydH+K0fw7+HHxH0T4R6Xbjw/4o0/w54as/Eniu4it7iwGp2873jTzNsaSdGnhjNvAu2AQNO6F9wn9uOBhGlr8W7v0Wi39bvTdWN4QjK8Fe+nTq9Lb/da9+trM9m1PxbqXjPw/wCG/GOv6lrWn3HhnStGnutbtdKa6s9Eu5IDLeXFxH5ZiBVbzTSNrRnbdzOQ0FrMF474PeJ9K1XVWNvqfh/VvE8k11JaT+A0mu7O7QO+ySBNN1tbmFGTyzIGs08uQyABwAzey/BD4f8AibVf2S9P1xPGVpr/AInudZOu/wBpvNb2Xh829jKIYxthRVW1a1sYtszI8qvKsjBYw0cfkWmfG3wd4W1qPRmuPD15pkhuLG38B/EPQtSZrMPcvdyWlpNbrPY3EayCWSNvs1xPHGGQSeWojXxKOHjSfJBW0teKbV7ttaJSS10vpbonv1yk6/PyarmvbRO2y1aa/U2/2iPAek6j4KuLrxxq3i7WNNt44iZ9Y0++i+zqxQ3aWr6hdyXOYrfzZZAkK7o4GLOAhK+e+B/DHgf4TXhh8Zah4Z0/Ut6y21lq2h6RaWaTT5ubiMbbnTzK2JoZF3yuipL5arlVA3/iP4U1T4heB/iDrfhrwT4f+E/gmPwpqdqt5H4cOinVh9lmb7LBHNBBdX0srYCyNCkESvmJWmQ+b2Gv/EzxdceMvEupeF/GXgfw7oepa7PCz6/rV34e2S2scVk0ayzWV1pd40sdss6h42eNJQFT920jXy1VKNKWqd/Jpq1lq21u76p6elz2icHCSV7rt56XSsunT1125jVfHXgXxXeXlnDeeKtLaOZRpX/CLaz4X0CyuI/JiLPKJ3aSECbzRtV7g7FRhksYxHoOmaPrfg/xlaa542tPFWt6P4a1C/tFiu7aBNL1dbSW6s4rVo0he8vTbW9yzTNEreXaFzHEHjLWtQ+P/wAV9GjvP7F8Z6p4o8P2lu02p3ngfVdGu7GyAIXZ9rfw9aRNI5LYEMjMChBKMUDd1ot94f8A2c/hZqHjbXLqx1jw/avP4Q1G20vxD/b2q31zq2oWP9oXGoXXlqJbuGKHzPJXcdsMn7yUyp5W6jLnjTSWj2VtNOt23fba2927aGlRyo07xertbdu6a/ux/K76Hh+u/tC/FLTv2evi1Dq8Otf8JNrlx4c0nTrXT/MXS9VXUZtSYy6ZFvYKb14WhlEZ3szuzFZCI4PYvCPjPwl+yV8ZNNudd+IGj6PH4f8AC+leDvE0MttNfSazNpunFM2SwqzrDDPKfOl2siSQmPKu0wHF/ssXQvfhh8Pde1LWWtoNBWV/tNuIJXmuI9C0lYZovOPlFoluNWkiaXEUO6W5lYQ20wOp+xz8Lfh38U/2gfG8Mfwr0Pwr4x8B6hp1zHquratP41vbyOO8mW4/f3ssqxOwt1jjmjJdQ/mqVJEaelan7JqSsktbfJddkmul9zzasm6s4xXuxb9bXSXyvb56n2x4a8RWfjDw3p2r6fJJNp+rWsV7ayPC8LSQyoHRikiq6EqwO11DDoQDkVeoZmdtzEsx5JPeivDMwooooAKKKKACiiigAqS1QNOu5WaNSC+B/D3/AEqOvPP2jLP4Y6doPh/xV8VNQ0DR9F8D67b67puo6xrJ0u1s9RiDeS2/zEWR+W2xNuDEfcYgVUI80rflqKTsrn50J8SNa0b9ttm+Inhfy/E3hECf4i3/AIe09oLrV7KS1udNi1Z7ZN0bvC99GVkgjRrqGSFcO4ijHJ2Hw78N+JNf8JW/w40S+tLU6BPfXuo+M9WuBpc73subW1tgs0Yk8pSsLLHLLA82RInlRPK3E/tP/wDBQOz8S/EBvC2peL7/APaL08TxWdtqWjacml3t9bNdRyy2UM8dnBIkdykQWWBWniSYW80PzwrIvp37PNzF8Z/jv4ovfiZoej6x4i1C6XRLfw7olxNJa6BFLOt02l2E8TRpsW3mnjiCCZTczCeOWNFNxL9ZXjOlQ55JrRLS/pto+r32Vt7HXhZKVRyp/Zi37rdtvPrdu607pPVn1r8RfjVefErQrnwjp9poun+B9Lv7qzj/ALOtHtIdXs7e4dLO2SGQkxW8USRLL937RLGwRI7YAXPm3hnSdP8ACto+i3Uk0vhZZhPBHNoaeILLT2GCi3WlMVmeNMfu59PlguSfKEqXATzV9W1X4T+A/hJ4d1S18eae3wji0XUDo3hS80rxM2rat4z0q2t4Ej1CSz8qU3F0+GV98E1wqxAs+3DHwP4rfE7Q/DcC3ml3Hjj+yd2El8ZXmmW1vOP7yx2mlyeYjdtt0j+qqeK+HrYfF/WXKMouL2i76+iSd2u6d0+y0PucpqZRi8tjhVQqKcdXONtJdXztrTpytWt0b1PWviF8En1L4M+L/Htr47i8eQ6TpNxqn27Q5D5MT6a0V8un3dxcXtzdMjGL5bePYsZEglyr7XteEPgjpviK28OalqHg/T5vCuuWdxeeJPFguZfC954f0xIrya0uxqETxTXkdzGtkGtixS2CFpAPMGPl74d/tFX/AIS8SQ+JNF1ax0/xFFiOO90S6luI9QhX5hE0NyiXG0ksBaziW3c7RDLFcbCvdfHv9uAfEHS9I0S01TxFrDeJ7pvE+sabNfJcRWl4G8qOwtH8tTDp8QtPtyNMJCq3azE+dHGlezRo1LNqDuk79+m/mrLW/kzwsTkdSFenShUvCT0ls1ptbva9rb+Vzt/il4s8NnRpLu31bxTbeENIlW4XXfGnie7uLlyCAj28M7+XYDJAS4dPtv7xggtmAZ/PPiN4Rs/jh4GksdEufDmhq9miWGpzPK0sRRkSFBaWRM8QRZpWVbkKIzE+YGDjdz/hP4xaLrGsW9+0g8Y6xbjdCdKtxeQaWCMD7PIziFOpVniNxIcHdM4CKvoejeM7rX9SMdzH4MsraMAy3l9rE7pZE5IFz5dk5tuMkyShYlAJaReK+e5sRTxMakoPmi7xV+RL5aXv3vZ7Weh+hU8uwVHASpUavLF/HLldScrdW1dK3ZR93e6dxvwF0vwxpPwU8YeBbi8bwvp/k3/hPwvrfiDwjqM89ro7x6nYWtxJMVRLNmD2M88zLg2xaGRFwZosn/gl34G+KGg/F7UvDo8W+HPDMOjpYan4yfTbZdR82wtpGW201biW1aFFWMTRMRNFMha5baWiKRnxA+LOoeCvENv4b1Xw34YuI7/UoNEvdmtTXVlY/al0/wAprl47FoxBIupwAOCyPyFLF4xJ4J/wk1x8MIvGHgnxVrWpeA/hu/ihotSgtLl7/VPEF1pks9nKIjcbEaIXO+FrmRJFkubOHy7e4kgmWL6rK5YyvCrHEU1Hm1W0uuuzbv12130sfnmcYHLqLh/Z+IdRyWqas1ez5rNLS2vS291ofr78GvGWseP/AANHq+sWGkWDXtxM9h/ZmqR6lbXljvP2a5WaPKESR4YbScqVY7CxjTqq80+H3xs8A+Cfgh4HuLzV/B/w/wBH1DQ7VtI02/8AEVmsdtbLEqpFHKZdkwjUBC6MwyvU9a9HtLuK/tYriCWOeCdBJFLG4dJEIyGVhwQQQQRwQa8upFqT0sj5pXSJKKKKzAKKKKACiiigA61+Iv8AwUW+E3x0/wCCif7V3jrxNpWhpqXg74f+IdR8F+GtPm1q1tvsyafO1tczRxSyKFknnieRnfazAxpkpGmP26r4X/b5+G2u/szePNd8deE45rjw38UrmEXtnF8g0nxUiIlnLkcLbap5ENnKSMLcmFjn7S+PayOtCFdp7tWX9ef/AAOpwZhz+z5odNz8n9M/ZP8Ajj8EPGmn65/wqLxReXmjymaON9C/tyyfcjJiRLcyLIhDNxnB9xkH6w+Av7dPxC0aCz0nXIfFnwI8L6P4dj0STTX0jWLGyvHJgee6juBEvkzzzRzTSzuRcn7S0azgIHa9Z6D/AMK7/Z11z4oa7q2mya7qElhqegeIdERYdShSfyVlu5boxJLOs7SPO9pcebFHGqw4wihdL9nvXPiF4H0r4Z+ONW1CzEXjrVLSK4sP7W1C7uNRTV7iAx+akhWOL7HaKdm0yM7b3dgWcN9Ni6Ma9Nwlp0ut16XT+/p0ObA5hPDVFV5YzSfwyWj/ABv/AFZ3Td9bRf2kfhKj3F4fjL8Nre4vNv2mbTLy0tby9x2uJ7iaaZ2GSAweNxkncD0tL+038INHuReaX4q8FyX3Km9PiPTJrqUf7U8ssszf8CPAwO1ebfC39onxp4s8f+IbXxzrFh4k0dfBN/4s0OXUdC06WSQIzm3jnIt1LYijlbII3+UemK6H40x3HgjT/hWsPgv4H6hq3jZrWHVWufh/E0do013p9uXiX7Ru+VtQT5WY7vKJyN2F+b/1Rw7fvzk773tr62SP0CPidiaaUIYaCttZy09L3sQ/Fn47fBX4heH7g+JfEngSSWINIL2HXrNdVi44NvNCsbrIpwwH7wMRgq3GPl34H/EX4cfEX4r3UfjHxkqadLbhI4o18yO/8t2I89YiCCVWHbEpMe6JS3mKI1H6L/DX4R2fhrW9eh1rwj8NVtYLqH+xrvSvC9vp7zQmBC/mx7pCHWUuoOVBUA4rgP2wv2lPHv7P/i3wzp/gQ6G9hrOn3t1JYNYbZkNpJbbljcPtZpluNiqUXYy7izA7R7GBy+nhqM8PSlL3tnf4fS91c8PHcbV8ZiIVZUIXjq73tL/Fte3+ZzegeKPhvJYLDoXw58UeLCo+SfSfh/dEA56ln02G0Y4AGS2OvPAJ3vJ+JGvXUMnhP4U+NLGGAloJPE+u6bp8VuccbY0nupoo+xWCK3YqcFiQAU+Jn7UWv+Iv20vCHhPwr4pkt/CtwNOfU4orO1ma6+0wXt4uJZIneNWgt7foQSJmKlShJofCXX4f2svjZ8So/Flxf3Oh6O4sNHtIb2a2j06OS6vLdJoxGwAuNljHOJ/9YrXbKGCogHDHhvCJ80+aX+J339LF1vEDNpRtTUKf+GOv4tm9p/hT4k+Drlb7XLn9nbwHHqkc8WqWtwt9qtjri3ED29wlxbSPZQzCSF3RixdwuAH4BrzfxD4K8LeJfhRqOo6r+0NZ+Io/CF2L/WdZ8M+FLCbXpriVpIle4unN1dyKZJpAqmTyhIQQA4BHO6b8VIbz44/s0+LtftZNS8RXfhzVEv76x003F/ql3DEkKzMIlLu7LETk8KGPKqCR578QPiVb+M/gp8ePH00kOj6lq3iaLTYdHum23ltIdRsJZDOCNu8xWEHyIXwYblixzhPYw2DpUFy0o2X3/ndnzGKzDF4qv9YrzvPTVJR6+SWvnufRXhH9lbVtT8fQ+LLXxNrmpzf2Za6rH/wsHw1p9z4f1SFkKwWUkWn3FtNHDFFGim2GyGOIxoY3QCIfoJ+xB+1NqP7U/wANteuPEXh+28K+NPBPiC58MeI9Ltrprm1S6hjilS4t3dUdreeCeGWPcoIDlcttLH4r/Zz+LHhP4hp4l0Dw3pYm8CWJt7e3v5luGXxB9oif7SWe4G+XaAiF2Zic8nG2vVv+CTfiO4/4XB44sby4lubrWPAnhTU7uWRstc31rNq2m3M7dy0iW9pk+iLXBnGHjPDuo1rG1vS9rf12FhcVWdVU5ybW2vTr8j7kooor5A9kKKKKACiiigArxb/go8dN/wCGAfjMurKzQP4Q1BLYJ/rPtxhIsTGe0ovDblD2cKeMV7TXzn+3h8b9Am8M6r8J5fDNr401DxTpka6ra3mqvpWnaPa3UzQWss91Ekk63Es8bfZoreNpWeAsWhULIerB05TrxUVfVPTyZjiJRjTbkfm78eNA1jxr+xN4w0W3hkn1C11vVrmC2tztaSKLWblysa4J2CMtsUDlVVRyRjY+HPxv0/426h4P1XQ/tTeC/hhp/wDaTTSwNEl1qq2bQRQKGA3C2heZnYZXfJFgkAmuo8X/AAh8afs6+B5dR8XfHrwXDo8k6oP7d8Jv5jlciOMT293G0zqrcsIMnlioqTW/gj488R+FrWGaH4QeMdF8RQrJbRr4iubJNViYLIrRRyWkySqQyvxJj5gc8195ufORnGx8y/tAeLW+Fvwm+EesQr5q6r8NJ/DtxJHzlv7IljiJPcbtRmb6rntXtP7V2v2Xif4nfCfwvcyXAi1CaS3byJ3t5hHHd6ZcMUkjKvGQLY4ZGDA4IIPNO8b/ALFeveJfCNn4ev8A4J6u2l6VLLNbweH/ABHpscds8oPmECS6tyd2TwykdeKyvF/7MOt+JvHVp4jvvAvxu0/VNNhSCyezvbCRLJVQIfK8m4k2ll+8QfmLHPWjRl+0hpqe0fC/xf4e8J2WoeE/DcE1nB4VmEM0DtLJtedBc5EkpZpd3mklixO4sCeK81/aE+IUcn7U3wfh3LJKbq4QIed0W6KVjj0zAnX1+tO+F3w01T4V6feQ6f4I+LF42o3jXlzLqlkbqaRzjq5cEg8k57sTnk1j+L/2c/EPj74p6X4ubwr8Y4dU0faLOK3/ALOgt4BghwFncEbwTuO4Zzxjiko2ZKlBO9zi/wBn/wAIXnwz8RJf6l5zXcfxIt9FtJZgQ0lhp2lX1nakHqV2S7Qe+wVc+E3xltvgD8R/jkuoSR299prQ3thbu2JNRTzb2S3WJerMy3NqmB/E/vx6Z8RPgT4w+L1tp9vqXwx+IkVtp9wLyEW/iDRbHEqjCOXTURKCuTt24I3E+mJPGH7MXjXxjr9h4hX4M2WpeItJINjcal4hsbcxYOVJeJps7WJKgq20kkYPNPff80V7SL3PF/FC/wDCr/jt+zroL3Ecl54b0ySwucOCxlkhWJmI7BpC+PXn0NdB+y5c2eqfET4ovLa20hg8SSzHz4PMDXCXuosrrwcN5cqKGGCAMZHNVfiZ+zD+09rniGTW7D4W+BLXUodqrf6fcaZfajCE+7ia7lABHbbGp5r5b+J3w++KHwnGrXXiux8caDa6netNqV0zywadc3LElt8sB+zM53Z27sjdwADWns+ZWv8AdqUpKSsmfopqfx48P+BdQjh17xRoOj3UmNsWoanDbSHOMYEjgmvoH/glklr40/aC+JvibR5bW48P6N4Z0Dw3bXNpIsttPcyS3+oTKjqSG2w3Fi2QeRcA96/Ib9kH/gnp8TP22vFkNn8PfCci6TJLtvvFeowPb6Lpq5+ZmuCP30g6+VDvkP8AdAyw/dj9kj9m3Q/2K/gHo/w18F3N1Do+hySG91T7NF9u12/cn7TeSb1dE3OuAm1tsUSgPhAD5ObSgqLoxfvO1/JXvr+n37HqZTltSvV5o2Sj1e35P8F+p9AZormfCPiO+k1P+z9SkhuJJImntrmKMpvVWAZH4C7wHjYFQAQ5+VdvzdMK+PqU3B2Z7GIw86E+SX3rZrugooorM5wooooADXwT+06JvBP/AAUWazvtzQeK73TfEunyH7uwaDqOlyRg/wDTKayUkf3tTiPVq+9q+Mf+CoOlRS/tB/AW6Rlju1XW0d+hNvFdaJeMCfTfbIP+2hHc162Sz5cTy901+F/0OHMYc1F+R84+BvGNx8cf+ChHiu9+zx6lpvws0iaDTLOaTy4WvTK1sqMSGC75Ir5y+05H2ViCYENeS/tifBy7+FX/AATy+E/gLxdb6Dq3jCx1o6Jp91Zs9zHAJbe98vy2kjRgAWtUK7cZjU5OAR037APiAWHxd+Olzhrq++3aXBOoZVZ5oYLlZUyxABM3mj5iBnkkDJrlf2o/jBH+2D4h/Z0bw+2r+HbPXtbutQimvIbc3dqIpYES4EQeSNsGOcqGyDt5G08/X7S/rsePytT02X+R6z+0V+zx4Wl+NPwD+F2mS65o/h+1j190isNXuIZYrWJIJtnmByx3SHALEkBcDAyDy37eKapq/wC1/wCFbXTvE/jLR9Nv4dHtdUi0nX7uxhka61m3tSiJE6qjC3kkYsOcyxnsMWvhT4KuvCH/AAUHUan4z8WeOJdG8CSXr3Ou3aSG2uLq+EXlQIiKkSmKIttUEktnJ4rzb42/GW88YftF+BWXQdWtdN1r4mxeTq9yqLaalBbXel26C2wxdkH9nrIWYBcztjPWiO4oxaa9PzPfv2659ei+Jnwrg8O+MvFvh2TxJr1tpd9aaZqTW1tcWn2y3jlfamCJcXY+cN92MDHevM/GHir4kfDL9pnxx8L/AAd408V+JU8XaNKmiLrWpNeXHhu7dLJhcLcvl1jhS4ncgfwKhwzqCb/7WvivUfFv7bvwK0fSLqztr7TU1PVUe8t3uLdSY1dTJEkkbOAbTgB1+YA54rt/gr8A4fht8XfEnxD8QeIZPFvjnxKggmvTZrZW1lb/ACARW8Adyo2xRLuZ2O2NRwS5ZLRaij7sVft+pwkPhb4geJP2rPFPw+0v4wfESHTdB0Oea3vDfobie/itdKkBk3KyCF5NSxtVQwEeN5OTWP4j+FNxr37Yvwf8N+LtU8QapeX3hnT7jxbaXGt3M9vfXv2HVWnYL5hSMebp0QIh2KwdjzvJPTfs5eMofEv7X3xg1hJFZdKkGmMc9JnupY3GfaOwtv0rj/iNa6p8Yf8AgoldWeh+Kb3wne+HfDQefUrO2jnuIomSNRHH5gKozC9k+cAlRkgeleXkUt7eRe/aC/ZM8J/DfSfBOmzaPpxj1r4lX8djF58s8UenXVreTR27RudhPnJEeVZhtVd5Fdj4C8M6L8DP+Cj2oeGfCem2OkeHvEelRi70mygWO0jSe0vp3Xyx8vlrLp8bKuNqG+mChRKQeU/bJ1P7d4p/Z58M6bq8l1LF4rtpYNQun+3SO1p5CedKSV85wz5ckjc27kZ4m/Y3C6h+2z8adS8RX0niTxVojW1ja61KghVLaQMGhSBfkjIEMSbhk4RumWLTryhq469n+Z9TW3xZuP2NfFGgatoWsXVr4Ga7gh8QeEZpWl0u10x7m3tZtQ0+Ns/YZLR7uGZ4oCkEsQlDRGQrKv1rry3Hg6+u4Lq3Y2okd4ZEtHlWYtIzgO652sm7ZtbbuwrBicqPzh/awluPijq2ueFrH5ri48DS+Ho1HPmX/iTVLPTdPA9xJZzn/gSmv1d1CYTajcSL915GYH2JNfP5vyUpRmlrK9/laz/E97h/GyoqUZrmjp1/J2f5Pd9dVxvgvT21PW21RrWe3gji8mFriAwyzEhQSFb5gq7TyQocvkIAu5+soor5+pU55XPQxWIdafNay2S7L1/rySWgUUUVmc4UUUUAFfnr/wAFdtW1CL9q74XW73P9m2kegS/2TLLL5MeozSaxYS6jboxwGlW1s7Vig+ZkkbgjdX6FVk+OfAOg/FDwxcaH4n0LRfEuiXZBn07VrCK+s5iOhaKVWRsZOMjjNdmBxSw9ZVWr/wDBMcRS9pBwPx51T4A6lpHjzxdrXhnxMPD1t4/t0i1q0/s/7TKsuHBnt3Mi+VLh5Ml1kAaUtg5ULj6n8EfE2k/HbwFrWiJ4fbwX4BtYtNsNMkubiG6WDyXjaZz5bo8iGWRl5XdtAJBZmr9RLj/gml+z/PJuX4R+DbMZzssbZrKMfRIWRR+Ap0P/AATW+AcP/NJ/CM3/AF3gkn/9Dc1739vUez+5f5nn/UKndH5pHRfiJoPxn+IfirT9J0e4m1rS7fT9EY6m8bwNA5VDIDDgZ8xpGAJAMWzJ3714z4ufDbxlfN8G49H8O2v2f4ZRWt9OlxrUMcc80f2fNursNxI+z8ylMMZQQDgiv1qt/wDgnZ8ALfH/ABZH4UTY7z+FrK4/9GRtWlYfsMfA3SyDbfBP4O27DoY/BOlqfzEFL+3qS2i/6+Y1gJrqj8j7qDWtc/bM0vx7rB0DR9D0HTJtLtt+twTSuCk4DlRgruaduOwA57D1Pxl+0Z4b0LSL19P8R+GWuVti1vbXuuW8CzyhMhXfcdqlx1A4HODX6c6d+zN8M9H/AOPP4bfDy1x08nwzYx4/KIV0GlfD/wAP6CQbHQNCsSvT7Np0MWP++VFRLPofyP7/APgD/s5veX4f8E/Eb9kD4j6b8FdT8U32tePvhq+reJNYOrhtM8RQ3MqyPvLoysAOC2VxuzvbOMCq3w+0jxunxP8AFnjLT9c8M3OveMIoYC+j6HqmuDT0jVVTyVjjG84RPvAglAcY4r93odQuLeMJHNNGo6KrlQPwFI99PJ96aZvq5qZcQdVT/H/gFf2frrL8P+CfiB4T/ZD8bad4k+H2qL4Z+K2qaN8MbY/Y7S2+FOvRT37su6aQySxKpZ5ssqoGwoUfMcseN+EX7WXw/wDgL8cviJrUmqeMZv8AhMr5pL+wuvDJgudNuI5Zt0TO04b5TLMjI0IYEKCQVIb92PHXipvA3gfW9dGl6prraLp9xqA03TIDPfakYYmkFvBGMl5pNuxFHJZlHevxN0v/AIIvftQftg+Pdf8AiB4s0bwj8P8AUPG2q3WvXqeIdXMUqyXUzzuEt7WO4kjCtIVVJvLcBQGANd2BzWNZSlWtFLz3Mq2Dadk2/ke7fsq/G74dftOftgfCOPw1rkWoX2oeJop9UsZopLa5WLStI1vULRvKlVWYJdiNi67kyFGQcZ/VAdK+Ef8Agmx/wRK0/wDYl+Ldr8RvFHjJfGPjLTrWe30y3sLA2enaSZ42hml3O7SXEhiZ41YiJVWR8ozbWX7urw84xVOtWTpO6St+LOvB0XThZ9woooryTsCiiigAooooAKKKKACiiigAooooAKKKKACiiigAooooAKKKKACiiigAooooA//Z"
    }
   },
=======
>>>>>>> 1907a8522d3c6fcaa549ff9abe1d4a75afea92e2
   "cell_type": "markdown",
   "metadata": {
    "id": "P6uGmYtIHGFw"
   },
   "source": [
<<<<<<< HEAD
    "[Google](www.google.com)\n",
    "\n",
    "\n",
    " ![One More Chapter.jpg](<attachment:One More Chapter.jpg>)\n"
=======
    "--- \n",
    "\n",
    "Your mark down here \n",
    "\n",
    "---"
>>>>>>> 1907a8522d3c6fcaa549ff9abe1d4a75afea92e2
   ]
  },
  {
   "cell_type": "markdown",
   "metadata": {
    "id": "HITMIz3cHGJE"
   },
   "source": [
    "6. Mathematics with LaTeX\n",
    "\n",
    "  ### Mathematics with LaTeX\n",
    "\n",
    "  Write a mathematical equation in LaTeX, such as the quadratic formula:\n",
    "\n",
    "  $$\n",
    "  x = \\frac{-b \\pm \\sqrt{b^2 - 4ac}}{2a}\n",
    "  $$"
   ]
  },
  {
   "cell_type": "markdown",
   "metadata": {
    "id": "f4az5szGHGME"
   },
   "source": [
<<<<<<< HEAD
    "$$\n",
    "a^2+b^2=c^2\n",
    "$$\n"
=======
    "--- \n",
    "\n",
    "Your mark down here \n",
    "\n",
    "---"
   ]
  },
  {
   "cell_type": "markdown",
   "metadata": {},
   "source": [
    "7. Markdown table \n",
    "\n",
    "- Make a mark down table that is 5 columns and 3 rows. \n",
    "- Make the first column centered\n",
    "- The next 3 should be centered \n",
    "- The final align to the right "
   ]
  },
  {
   "cell_type": "markdown",
   "metadata": {},
   "source": [
    "--- \n",
    "\n",
    "Your makrk down here \n",
    "\n",
    "---"
   ]
  },
  {
   "cell_type": "markdown",
   "metadata": {},
   "source": [
    "8. Other things \n",
    "\n",
    "Write a block of text and use the following:\n",
    "- Make a word Bold \n",
    "- Make a different work Italic \n",
    "- Make a different work Bold and Italic\n",
    "- Strikethrough a word \n",
    "- Make a table with bold column names "
   ]
  },
  {
   "cell_type": "markdown",
   "metadata": {},
   "source": [
    "--- \n",
    "\n",
    "Your makrk down here \n",
    "\n",
    "---"
>>>>>>> 1907a8522d3c6fcaa549ff9abe1d4a75afea92e2
   ]
  },
  {
   "cell_type": "markdown",
   "metadata": {
    "id": "ZjQYyEavLEkm"
   },
   "source": [
    "# Code Challange!\n",
    "\n",
    "Here's a simple Python script that creates and saves a file called sample.txt with some example text."
   ]
  },
  {
   "cell_type": "code",
   "execution_count": null,
   "metadata": {
    "colab": {
     "base_uri": "https://localhost:8080/"
    },
    "id": "Tf3nwqA-JsZw",
    "outputId": "732b76dc-eab3-4185-ebf3-7366bc025903"
   },
   "outputs": [],
   "source": [
    "with open(\"sample.txt\", \"w\") as file:\n",
    "    file.write(\"This is a sample text file.\\n\")\n",
    "    file.write(\"It contains multiple lines of text.\\n\")\n",
    "    file.write(\"Python makes file handling easy!\")\n",
    "\n",
    "print(\"sample.txt has been created and saved.\")"
   ]
  },
  {
   "cell_type": "code",
   "execution_count": null,
   "metadata": {
    "colab": {
     "base_uri": "https://localhost:8080/"
    },
    "id": "UEi6YgWgMb5A",
    "outputId": "30e99a91-40b6-4a5f-8e96-2756632e72ee"
   },
   "outputs": [],
   "source": [
    "with open(\"sample.txt\", \"r\") as file:\n",
    "    contents = file.read()\n",
    "\n",
    "print(contents)"
   ]
  },
  {
   "cell_type": "markdown",
   "metadata": {
    "id": "LTbhz8ndLT8Y"
   },
   "source": [
    "Using the above as an example write a program that creates a little bio about yourself.\n",
    "\n",
    "- Use f strings to use your variables\n",
    "- Make the file save as what you entered in the name field\n",
    "- Read the file in python after you write it"
   ]
  },
  {
   "cell_type": "code",
   "execution_count": null,
   "metadata": {
    "colab": {
     "base_uri": "https://localhost:8080/"
    },
    "id": "bbzPphDoKgqE",
    "outputId": "a87a332e-150d-4a8f-e6aa-c673addcbc91"
   },
   "outputs": [],
   "source": [
    "name = input(\"Enter your name: \")\n",
    "hobby = input(\"Enter your favorite hobby: \")\n",
    "animal = input(\"Enter your favorite animal: \")\n",
    "color = input(\"Enter your favorite color: \")"
   ]
<<<<<<< HEAD
=======
  },
  {
   "cell_type": "code",
   "execution_count": null,
   "metadata": {},
   "outputs": [],
   "source": [
    "print(\"test\")"
   ]
>>>>>>> 1907a8522d3c6fcaa549ff9abe1d4a75afea92e2
  }
 ],
 "metadata": {
  "colab": {
   "provenance": []
  },
  "kernelspec": {
   "display_name": "Python 3",
   "name": "python3"
  },
  "language_info": {
   "name": "python"
  }
 },
 "nbformat": 4,
 "nbformat_minor": 0
}
